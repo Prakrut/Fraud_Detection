{
  "nbformat": 4,
  "nbformat_minor": 0,
  "metadata": {
    "colab": {
      "name": "CreditCardFraudDetection.ipynb",
      "provenance": [],
      "toc_visible": true,
      "include_colab_link": true
    },
    "kernelspec": {
      "display_name": "Python 3",
      "language": "python",
      "name": "python3"
    },
    "language_info": {
      "codemirror_mode": {
        "name": "ipython",
        "version": 3
      },
      "file_extension": ".py",
      "mimetype": "text/x-python",
      "name": "python",
      "nbconvert_exporter": "python",
      "pygments_lexer": "ipython3",
      "version": "3.7.6"
    }
  },
  "cells": [
    {
      "cell_type": "markdown",
      "metadata": {
        "id": "view-in-github",
        "colab_type": "text"
      },
      "source": [
        "<a href=\"https://colab.research.google.com/github/Prakrut/Fraud_Detection/blob/master/Code/CreditCardFraudDetection.ipynb\" target=\"_parent\"><img src=\"https://colab.research.google.com/assets/colab-badge.svg\" alt=\"Open In Colab\"/></a>"
      ]
    },
    {
      "cell_type": "markdown",
      "metadata": {
        "id": "sGiiHfVTSO_r",
        "colab_type": "text"
      },
      "source": [
        "## Import Libraries "
      ]
    },
    {
      "cell_type": "code",
      "metadata": {
        "colab_type": "code",
        "id": "WI3doCn-Afmd",
        "colab": {
          "base_uri": "https://localhost:8080/",
          "height": 71
        },
        "outputId": "fd9af531-5e08-4205-e811-65830b325bc0"
      },
      "source": [
        "# Python\n",
        "import pandas as pd\n",
        "import sys, os\n",
        "import numpy as np \n",
        "\n",
        "\n",
        "\n",
        "# Third-Party\n",
        "import matplotlib.pyplot as plt\n",
        "import seaborn as sns\n",
        "%matplotlib inline\n",
        "from IPython.core.display import display, HTML\n",
        "display(HTML(\"<style>.container { width:80% !important; }</style>\"))\n",
        "\n",
        "# Custom\n",
        "\n",
        "# Options\n",
        "pd.set_option('max_columns',500)\n",
        "pd.set_option('max_rows',50)\n"
      ],
      "execution_count": 1,
      "outputs": [
        {
          "output_type": "stream",
          "text": [
            "/usr/local/lib/python3.6/dist-packages/statsmodels/tools/_testing.py:19: FutureWarning: pandas.util.testing is deprecated. Use the functions in the public API at pandas.testing instead.\n",
            "  import pandas.util.testing as tm\n"
          ],
          "name": "stderr"
        },
        {
          "output_type": "display_data",
          "data": {
            "text/html": [
              "<style>.container { width:80% !important; }</style>"
            ],
            "text/plain": [
              "<IPython.core.display.HTML object>"
            ]
          },
          "metadata": {
            "tags": []
          }
        }
      ]
    },
    {
      "cell_type": "code",
      "metadata": {
        "id": "T81LNVnndWxy",
        "colab_type": "code",
        "colab": {
          "base_uri": "https://localhost:8080/",
          "height": 54
        },
        "outputId": "4b9930da-0274-415d-a1c4-6262ac14056e"
      },
      "source": [
        "from google.colab import drive\n",
        "drive.mount('/content/drive')"
      ],
      "execution_count": 11,
      "outputs": [
        {
          "output_type": "stream",
          "text": [
            "Drive already mounted at /content/drive; to attempt to forcibly remount, call drive.mount(\"/content/drive\", force_remount=True).\n"
          ],
          "name": "stdout"
        }
      ]
    },
    {
      "cell_type": "code",
      "metadata": {
        "id": "u9h-IrtTd2UT",
        "colab_type": "code",
        "colab": {}
      },
      "source": [
        "train_identity = pd.read_csv('/content/drive/My Drive/ieee-fraud-detection/train_identity.csv')"
      ],
      "execution_count": 9,
      "outputs": []
    },
    {
      "cell_type": "code",
      "metadata": {
        "id": "fLxwqnZJCtpN",
        "colab_type": "code",
        "colab": {
          "base_uri": "https://localhost:8080/",
          "height": 102
        },
        "outputId": "a27246cf-c2b0-46bd-f894-dbf4084c1300"
      },
      "source": [
        "for i in os.listdir('drive/My Drive/ieee-fraud-detection/'):\n",
        "    print (i)"
      ],
      "execution_count": 10,
      "outputs": [
        {
          "output_type": "stream",
          "text": [
            "sample_submission.csv\n",
            "test_identity.csv\n",
            "test_transaction.csv\n",
            "train_identity.csv\n",
            "train_transaction.csv\n"
          ],
          "name": "stdout"
        }
      ]
    },
    {
      "cell_type": "code",
      "metadata": {
        "colab_type": "code",
        "id": "ct6dGH_qtzu4",
        "colab": {}
      },
      "source": [
        "### Data "
      ],
      "execution_count": null,
      "outputs": []
    },
    {
      "cell_type": "code",
      "metadata": {
        "id": "cgyngN1OSO_2",
        "colab_type": "code",
        "colab": {},
        "outputId": "cedfe65a-944e-4d95-eb27-95bbed6a1b08"
      },
      "source": [
        "path = '../Data'\n",
        "for i in os.listdir(path):\n",
        "    print (i)"
      ],
      "execution_count": null,
      "outputs": [
        {
          "output_type": "stream",
          "text": [
            "sample_submission.csv\n",
            "test_identity.csv\n",
            "test_transaction.csv\n",
            "train_identity.csv\n",
            "train_transaction.csv\n"
          ],
          "name": "stdout"
        }
      ]
    },
    {
      "cell_type": "code",
      "metadata": {
        "id": "kVDz_L4lSO_6",
        "colab_type": "code",
        "colab": {}
      },
      "source": [
        "train_identity = pd.read_csv(path + '/train_identity.csv')\n",
        "train_transaction = pd.read_csv(path + '/train_transaction.csv')"
      ],
      "execution_count": null,
      "outputs": []
    },
    {
      "cell_type": "markdown",
      "metadata": {
        "id": "EiH-Nb6ySO_9",
        "colab_type": "text"
      },
      "source": [
        "#### Check for Mutually Exclusive? "
      ]
    },
    {
      "cell_type": "code",
      "metadata": {
        "id": "tcnpy7qDSO_9",
        "colab_type": "code",
        "colab": {},
        "outputId": "f4949ebf-78f5-4ed6-f417-8deb6db8a5b8"
      },
      "source": [
        "len(set(train_identity.TransactionID.unique()) - set(train_transaction.TransactionID.unique()))\n"
      ],
      "execution_count": null,
      "outputs": [
        {
          "output_type": "execute_result",
          "data": {
            "text/plain": [
              "0"
            ]
          },
          "metadata": {
            "tags": []
          },
          "execution_count": 6
        }
      ]
    },
    {
      "cell_type": "code",
      "metadata": {
        "id": "ogXCRv-7SPAA",
        "colab_type": "code",
        "colab": {},
        "outputId": "213628cc-c4b5-46ac-9266-7bf56a11e054"
      },
      "source": [
        "len(set(train_transaction.TransactionID.unique()) - set(train_identity.TransactionID.unique()))\n"
      ],
      "execution_count": null,
      "outputs": [
        {
          "output_type": "execute_result",
          "data": {
            "text/plain": [
              "446307"
            ]
          },
          "metadata": {
            "tags": []
          },
          "execution_count": 7
        }
      ]
    },
    {
      "cell_type": "markdown",
      "metadata": {
        "id": "d_o5U-3HSPAC",
        "colab_type": "text"
      },
      "source": [
        "#### meaning do a left join on transaction. "
      ]
    },
    {
      "cell_type": "code",
      "metadata": {
        "id": "u92XWEmxSPAD",
        "colab_type": "code",
        "colab": {}
      },
      "source": [
        "train = train_transaction.merge(train_identity,\n",
        "                                on = 'TransactionID',\n",
        "                                how = 'left'\n",
        "                               )"
      ],
      "execution_count": null,
      "outputs": []
    },
    {
      "cell_type": "code",
      "metadata": {
        "id": "0BzdpgzESPAF",
        "colab_type": "code",
        "colab": {}
      },
      "source": [
        "test = pd.merge(pd.read_csv(path + '/test_transaction.csv'),\n",
        "                pd.read_csv(path + '/test_identity.csv'),\n",
        "                on = 'TransactionID',\n",
        "                how = 'left'\n",
        "               )"
      ],
      "execution_count": null,
      "outputs": []
    },
    {
      "cell_type": "code",
      "metadata": {
        "id": "OkEWThRsSPAH",
        "colab_type": "code",
        "colab": {},
        "outputId": "fb807c4c-56f1-4d2a-f7f1-026242bf35eb"
      },
      "source": [
        "test.shape, train.shape"
      ],
      "execution_count": null,
      "outputs": [
        {
          "output_type": "execute_result",
          "data": {
            "text/plain": [
              "((506691, 433), (590540, 434))"
            ]
          },
          "metadata": {
            "tags": []
          },
          "execution_count": 10
        }
      ]
    },
    {
      "cell_type": "code",
      "metadata": {
        "scrolled": true,
        "id": "4WLUwTssSPAJ",
        "colab_type": "code",
        "colab": {},
        "outputId": "a3e947ac-2646-4b96-efae-c3179b4e5011"
      },
      "source": [
        "set(train.columns) - set(test.columns)"
      ],
      "execution_count": null,
      "outputs": [
        {
          "output_type": "execute_result",
          "data": {
            "text/plain": [
              "{'id_01',\n",
              " 'id_02',\n",
              " 'id_03',\n",
              " 'id_04',\n",
              " 'id_05',\n",
              " 'id_06',\n",
              " 'id_07',\n",
              " 'id_08',\n",
              " 'id_09',\n",
              " 'id_10',\n",
              " 'id_11',\n",
              " 'id_12',\n",
              " 'id_13',\n",
              " 'id_14',\n",
              " 'id_15',\n",
              " 'id_16',\n",
              " 'id_17',\n",
              " 'id_18',\n",
              " 'id_19',\n",
              " 'id_20',\n",
              " 'id_21',\n",
              " 'id_22',\n",
              " 'id_23',\n",
              " 'id_24',\n",
              " 'id_25',\n",
              " 'id_26',\n",
              " 'id_27',\n",
              " 'id_28',\n",
              " 'id_29',\n",
              " 'id_30',\n",
              " 'id_31',\n",
              " 'id_32',\n",
              " 'id_33',\n",
              " 'id_34',\n",
              " 'id_35',\n",
              " 'id_36',\n",
              " 'id_37',\n",
              " 'id_38',\n",
              " 'isFraud'}"
            ]
          },
          "metadata": {
            "tags": []
          },
          "execution_count": 11
        }
      ]
    },
    {
      "cell_type": "code",
      "metadata": {
        "scrolled": true,
        "id": "OOwZaYvOSPAM",
        "colab_type": "code",
        "colab": {},
        "outputId": "02e50fbd-f0c7-4879-f983-c8b11db74936"
      },
      "source": [
        "set(test.columns) - set(train.columns)\n"
      ],
      "execution_count": null,
      "outputs": [
        {
          "output_type": "execute_result",
          "data": {
            "text/plain": [
              "{'id-01',\n",
              " 'id-02',\n",
              " 'id-03',\n",
              " 'id-04',\n",
              " 'id-05',\n",
              " 'id-06',\n",
              " 'id-07',\n",
              " 'id-08',\n",
              " 'id-09',\n",
              " 'id-10',\n",
              " 'id-11',\n",
              " 'id-12',\n",
              " 'id-13',\n",
              " 'id-14',\n",
              " 'id-15',\n",
              " 'id-16',\n",
              " 'id-17',\n",
              " 'id-18',\n",
              " 'id-19',\n",
              " 'id-20',\n",
              " 'id-21',\n",
              " 'id-22',\n",
              " 'id-23',\n",
              " 'id-24',\n",
              " 'id-25',\n",
              " 'id-26',\n",
              " 'id-27',\n",
              " 'id-28',\n",
              " 'id-29',\n",
              " 'id-30',\n",
              " 'id-31',\n",
              " 'id-32',\n",
              " 'id-33',\n",
              " 'id-34',\n",
              " 'id-35',\n",
              " 'id-36',\n",
              " 'id-37',\n",
              " 'id-38'}"
            ]
          },
          "metadata": {
            "tags": []
          },
          "execution_count": 12
        }
      ]
    },
    {
      "cell_type": "markdown",
      "metadata": {
        "id": "8KTxw2MxSPAO",
        "colab_type": "text"
      },
      "source": [
        "#### Make adjustments and check "
      ]
    },
    {
      "cell_type": "code",
      "metadata": {
        "id": "50q3o5PRSPAO",
        "colab_type": "code",
        "colab": {}
      },
      "source": [
        "test.columns = test.columns.map(lambda x : x.replace('-','_'))\n"
      ],
      "execution_count": null,
      "outputs": []
    },
    {
      "cell_type": "code",
      "metadata": {
        "id": "Q365JeWtSPAQ",
        "colab_type": "code",
        "colab": {},
        "outputId": "9664ebb0-d152-4ea1-b581-ec9f20504666"
      },
      "source": [
        "set(train.columns) - set(test.columns)\n"
      ],
      "execution_count": null,
      "outputs": [
        {
          "output_type": "execute_result",
          "data": {
            "text/plain": [
              "{'isFraud'}"
            ]
          },
          "metadata": {
            "tags": []
          },
          "execution_count": 14
        }
      ]
    },
    {
      "cell_type": "code",
      "metadata": {
        "id": "s4mej4PCSPAR",
        "colab_type": "code",
        "colab": {}
      },
      "source": [
        ""
      ],
      "execution_count": null,
      "outputs": []
    }
  ]
}